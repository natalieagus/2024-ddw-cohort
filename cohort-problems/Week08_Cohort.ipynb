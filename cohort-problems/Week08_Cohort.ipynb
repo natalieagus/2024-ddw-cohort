{
 "cells": [
  {
   "cell_type": "markdown",
   "metadata": {
    "colab_type": "text",
    "id": "OCOLpicpY9A0"
   },
   "source": [
    "# Week 8 Problem Set\n",
    "\n",
    "## Cohort Sessions"
   ]
  },
  {
   "cell_type": "code",
   "execution_count": 1,
   "metadata": {},
   "outputs": [
    {
     "name": "stderr",
     "output_type": "stream",
     "text": [
      "Version 1.0.5\n"
     ]
    }
   ],
   "source": [
    "%load_ext nb_mypy\n",
    "%nb_mypy On"
   ]
  },
  {
   "cell_type": "code",
   "execution_count": 2,
   "metadata": {},
   "outputs": [],
   "source": [
    "from typing import TypeAlias\n",
    "from typing import Optional, Any, Callable, Iterator, Iterable, cast\n",
    "from __future__ import annotations\n",
    "\n",
    "Number: TypeAlias = int | float"
   ]
  },
  {
   "cell_type": "markdown",
   "metadata": {
    "colab_type": "text",
    "id": "hABvyhX9Y_56"
   },
   "source": [
    "**CS1.** Define an Abstract Class for a State Machine, called `StateMachine`. The class has one attribute and one computed property:\n",
    "- `state`: which is the current state of the machine and is the attribute of any `StateMachine` object instance.\n",
    "- `start_state`: which is the initial state of the machine and is the computed property to be defined in the child class.\n",
    "\n",
    "The class should define the following methods:\n",
    "- `start()`: this method set the `state` property using the value in `start_state`. Once `state` has a value, the machine is considered started.\n",
    "- `step(inp)`: this method takes in the current input and returns the current output. This method should move the state machine to the next state based on the current input and its current state. You should call `get_next_values(state, inp)` in your implementation.\n",
    "- `done(state)`: this method always return `False`. A child class can override thid method to give a different condition to end the state machine.\n",
    "- `is_done()`: is to be used internally to check if the state machine should terminate or not. This method simply calls `done(state)` and pass on the current `state`. The method `transduce(inp_list)` calls this method to check if it should terminates or not.\n",
    "- `transduce(inp_list)`: this method calls `start()` to initialize the `state` with the `start_state` and run the state machine by calling `step(inp)` for every item in the `inp_list`. The method runs the state machine and produces the output list according to the number of input in the `inp_list` or when the state machine terminates according to the output of `is_done()` method. This method should call `is_done()` to see if it should terminate at a particular state.\n",
    "\n",
    "This class should be an Abstract Class. Implement the following way:\n",
    "- `SM` class inherits from `abc.ABC`, which is Python's Abstract Base Class (ABC). \n",
    "- Any implementation of State Machine's instances must declare the following property: `start_state`.\n",
    "- Any implementation of State Machine's instances must implement the following abstract method: `get_next_values()` that takes in the current `state` and the the current `input` and output a tuple of the `next_state` and the current `output` . \n"
   ]
  },
  {
   "cell_type": "code",
   "execution_count": 3,
   "metadata": {
    "colab": {},
    "colab_type": "code",
    "id": "RwW4UdOQY4m3"
   },
   "outputs": [],
   "source": [
    "from abc import ABC, abstractmethod\n",
    "\n",
    "class StateMachine(ABC):\n",
    "    \n",
    "    def start(self):\n",
    "        self.state = self.start_state\n",
    "\n",
    "    # this is not a pure function\n",
    "    def step(self, inp):\n",
    "        next_state, output = self.get_next_values(self.state, inp)\n",
    "        # set the machine's state based on the current input \n",
    "        self.state = next_state \n",
    "        return output \n",
    "\n",
    "    # transduce function is going to restart the machine each time \n",
    "    # @args: inp_list: any, this is the series of inputs we are going ask the machine to run \n",
    "    # @return: output_list, as a result of transducing these inp_list\n",
    "    def transduce(self, inp_list):\n",
    "        output_list = []\n",
    "        self.start() # starts the machine \n",
    "        for inp in inp_list:\n",
    "            if not self.is_done():\n",
    "                current_output = self.step(inp)\n",
    "                output_list.append(current_output)\n",
    "            else:\n",
    "                break\n",
    "            \n",
    "        return output_list\n",
    "    \n",
    "    @property\n",
    "    @abstractmethod\n",
    "    def start_state(self):\n",
    "        pass \n",
    "\n",
    "    @abstractmethod\n",
    "    def get_next_values(self, state, inp):\n",
    "        pass\n",
    "\n",
    "    def done(self, state):\n",
    "        return False\n",
    "\n",
    "    def is_done(self):\n",
    "        return self.done(self.state)\n",
    "\n",
    "    "
   ]
  },
  {
   "cell_type": "code",
   "execution_count": 4,
   "metadata": {
    "colab": {},
    "colab_type": "code",
    "id": "gYSp0wahg-Y5"
   },
   "outputs": [
    {
     "name": "stderr",
     "output_type": "stream",
     "text": [
      "<cell>36: \u001b[1m\u001b[31merror:\u001b[m Cannot instantiate abstract class \u001b[m\u001b[1m\"NoImplement\"\u001b[m with abstract attributes \u001b[m\u001b[1m\"get_next_values\"\u001b[m and \u001b[m\u001b[1m\"start_state\"\u001b[m  \u001b[m\u001b[33m[abstract]\u001b[m\n"
     ]
    },
    {
     "name": "stdout",
     "output_type": "stream",
     "text": [
      "out [1, -1]\n"
     ]
    }
   ],
   "source": [
    "class Test(StateMachine):\n",
    "    @property\n",
    "    def start_state(self) -> int:\n",
    "        return 0\n",
    "\n",
    "    def get_next_values(_, state: int, inp: int) -> tuple[int, int]:\n",
    "        next_state = state + inp\n",
    "        output = next_state\n",
    "        return next_state, output\n",
    "\n",
    "    def done(self, state: int) -> bool:\n",
    "        if state == -1:\n",
    "            return True\n",
    "        else:\n",
    "            return False\n",
    "\n",
    "class NoImplement(StateMachine):\n",
    "    pass\n",
    "    \n",
    "t1 = Test()\n",
    "t1.start()\n",
    "assert t1.state == 0\n",
    "out = t1.step(2)\n",
    "assert t1.state ==2 and out == 2\n",
    "\n",
    "t2 = Test()\n",
    "out = t2.transduce([1,2,3,4])\n",
    "assert out == [1, 3, 6, 10]\n",
    "\n",
    "t3 = Test()\n",
    "out = t3.transduce([1, -2, 3])\n",
    "print(\"out\", out)\n",
    "assert out == [1, -1]\n",
    "\n",
    "try:\n",
    "    t4 = NoImplement()\n",
    "    raise AssertionError\n",
    "except TypeError:\n",
    "    pass"
   ]
  },
  {
   "cell_type": "markdown",
   "metadata": {
    "colab_type": "text",
    "id": "0mOhDnQ2k3UH"
   },
   "source": [
    "**CS2.** *Coke Machine:* In this problem, you will implement in Python the behavior of a simplified coke-dispensing machine. The behavior of such a machine is captured in the state diagram shown in the Figure below. The machine consists of two states labelled 0 and 1. The state diagram does not show what the machine would do if an unexpected coin is inserted. Therefore, assume that any unexpected coin is returned to the user without a change in the machines state. Thus, on your own, you may want to complete the Figure below to add in the missing transitions.\n",
    "\n",
    "![](https://www.dropbox.com/s/kzk6nkdss7wvw85/coke_sm.png?raw=1)\n",
    "\n",
    "Each directed arc in the state diagram is labelled as $x/y$ where $x$ denotes the input received and $y$, the output generated. For example, the arc that connects state 0 to state 1 that’s labelled `50/(50, ’--’,0)` means that when the dispenser receives 50¢ (50 before the /) in state 0, it moves to state 1 and generates an output of `(50, ’--’,0)`. This tuple of values in the output indicates that the dispenser display shows 50 which is the amount deposited by the user, no coke has been dispensed yet as indicated by `--`, and no change has been returned to the user as indicated by the last entry which is a 0.\n",
    "The machine accepts only 50¢ and one dollar (100¢) coins. It has a display that shows how many cents have been deposited.\n",
    "- State 0: When a 50¢ coin is deposited the dispenser moves to state 1. At this moment in time, the display shows 50 but nothing is dispensed and no change is returned. If a dollar coin is deposited, the machine continues to display 0, dispenses coke, and does not return any money (well, why should it!).\n",
    "- State 1: When a 50¢ coin is deposited the dispenser moves to state 0. At this moment in time, the display shows 0, coke is dispensed and no change is returned. If a dollar coin is deposited the machine continues to display 0, dispenses coke, and returns 50¢.\n",
    "\n",
    "We wish to write a program that simulates the behavior of the coke dispenser as described above. We will write a class named CokeMachine that contains properties and methods as described below:\n",
    "- `CokeMachine` class is a subclass of `StateMachine` class.\n",
    "- `CokeMachine` class has a class attribute called start_state which is the starting state of the machine. This attribute should be initialized to 0, which represents state 0 in the diagram above.\n",
    "- `CokeMachine` class implements the abstract method `get_next_values(state, inp)` that takes in the current state and the input, and returns the next state and output as a tuple. Think about the following: which state represents the following scenarios?\n",
    "    - the coke machine is waiting for a valid coin to be deposited \n",
    "    - the coke machine has a 50-cent coin in it\n",
    "\n",
    "Sample Interaction:\n",
    "```\n",
    "cm = CokeMachine()\n",
    "cm.start()\n",
    "print(c.step(50))\n",
    "print(c.step(50))\n",
    "print(c.step(100))\n",
    "print(c.step(10))\n",
    "print(c.step(50))\n",
    "print(c.step(100))\n",
    "print(c.step(10))\n",
    "```\n",
    "\n",
    "The output should be:\n",
    "```\n",
    "(50, \"--\", 0)\n",
    "(0, \"coke\", 0)\n",
    "(0, \"coke\", 0)\n",
    "(0, \"--\", 10)\n",
    "(50, \"--\", 0)\n",
    "(0, \"coke\", 50)\n",
    "(0, \"--\", 10)\n",
    "``` "
   ]
  },
  {
   "cell_type": "code",
   "execution_count": null,
   "metadata": {},
   "outputs": [],
   "source": []
  },
  {
   "cell_type": "code",
   "execution_count": 13,
   "metadata": {
    "colab": {},
    "colab_type": "code",
    "id": "MbnkA56Zlc7s"
   },
   "outputs": [],
   "source": [
    "class CokeMachine(StateMachine):\n",
    "\n",
    "    @property # can call this function without the bracket, treating it like an attribute\n",
    "    # for ease of use \n",
    "    def start_state(self) -> int:\n",
    "        return 0 # this means there's no $$ inside the vending machine\n",
    "\n",
    "    # this has to be a pure function \n",
    "    def get_next_values( _, state: int, inp: int) -> tuple[int, tuple[int, str, int]]:\n",
    "        # default values to return\n",
    "        next_state = state ## remain in state \n",
    "        # return the money back \n",
    "        output = (0, \"--\", inp) # a tuple of 3: int, str, int\n",
    "        \n",
    "        if state == 0: \n",
    "            # no money in the vending machine \n",
    "            if inp == 100:\n",
    "                next_state = 0\n",
    "                output = (0, \"coke\", 0)\n",
    "            elif inp == 50: # do not use else here, because inp can be 30, or 20, or anything that's not 50\n",
    "                next_state = 1 \n",
    "                output = (50, \"--\", 0)\n",
    "        elif state == 1: # do not use else here, because state can be any value as well\n",
    "            if inp == 50:\n",
    "                next_state = 0\n",
    "                output = (0, \"coke\", 0)\n",
    "            elif inp == 100:\n",
    "                next_state = 0 \n",
    "                output = (0, \"coke\", 50)\n",
    "        return next_state, output\n",
    "\n"
   ]
  },
  {
   "cell_type": "code",
   "execution_count": 14,
   "metadata": {
    "colab": {},
    "colab_type": "code",
    "id": "-nijWtjhmHlc"
   },
   "outputs": [],
   "source": [
    "cm: CokeMachine = CokeMachine()\n",
    "cm.start()\n",
    "assert cm.state == 0\n",
    "out: tuple[int, str, int] = cm.step(50)\n",
    "assert out == (50, \"--\", 0) and cm.state == 1\n",
    "out: list[int] = cm.transduce([50, 50, 100, 10, 50, 100, 10])\n",
    "assert out == [(50, '--', 0), (0, 'coke', 0), (0, 'coke', 0), (0, '--', 10), (50, '--', 0), (0, 'coke', 50), (0, '--', 10)]\n",
    "\n",
    "# this restarts the machine \n",
    "out: list[int] = cm.transduce([50, 50, 100, 10, 50, 100, 10])"
   ]
  },
  {
   "cell_type": "markdown",
   "metadata": {
    "colab_type": "text",
    "id": "pSYhvY-DmsFh"
   },
   "source": [
    "**CS3.** *Simple Account:* In this problem, you will need to create a state machine that simulates a simple bank account. This is similar to the Accumulator state machine in the notes. The only difference is that any withdrawal when the balance is less than \\\\$100  incurs a \\\\$5 charge. The state machine should fulfill the following:\n",
    "- The starting balance is specified when instantiating the object.\n",
    "- The output of the state machine is the current balance after the transaction.\n",
    "\n",
    "Sample interaction:\n",
    "```\n",
    "acct = SimpleAccount(110)\n",
    "acct.start()\n",
    "print(acct.step(10))\n",
    "print(acct.step(-25))\n",
    "print(acct.step(-10))\n",
    "print(acct.step(-5))\n",
    "print(acct.step(20))\n",
    "print(acct.step(20))\n",
    "```\n",
    "\n",
    "The expected output is:\n",
    "```\n",
    "120\n",
    "95\n",
    "80\n",
    "70\n",
    "90\n",
    "110\n",
    "```\n",
    "\n",
    "In the code template below, we have provided a general getter and setter implementation for the computed property `start_state`. In this task, you need to set this computed property in the initializer `__init__()`."
   ]
  },
  {
   "cell_type": "code",
   "execution_count": 12,
   "metadata": {
    "colab": {},
    "colab_type": "code",
    "id": "uurLLTLSm9ct"
   },
   "outputs": [
    {
     "name": "stderr",
     "output_type": "stream",
     "text": [
      "<cell>20: \u001b[1m\u001b[31merror:\u001b[m Name \u001b[m\u001b[1m\"next_state\"\u001b[m already defined on line 18  \u001b[m\u001b[33m[no-redef]\u001b[m\n"
     ]
    }
   ],
   "source": [
    "\n",
    "class SimpleAccount(StateMachine):\n",
    "    @property\n",
    "    def start_state(self) -> Number:\n",
    "        return self.__start_state\n",
    "    \n",
    "    @start_state.setter\n",
    "    def start_state(self, value: Number) -> None:\n",
    "        self.__start_state: Number = value\n",
    "\n",
    "    def __init__(self, balance: Number) -> None:\n",
    "        self.start_state = balance # money in the account becomes the state\n",
    "        # this is theoretically infinite, but physically finite \n",
    "        # our computers cannot hold infinitely huge number or infinitely small number \n",
    "\n",
    "    def get_next_values(_ , state: Number, inp: Number) -> tuple[Number, Number]:\n",
    "        if inp < 0 and state < 100:\n",
    "            next_state: Number = state + inp - 5\n",
    "        else: \n",
    "            next_state: Number = state + inp\n",
    "        output: Number = next_state\n",
    "        return next_state, output\n",
    "\n",
    "    # just a plain function implementing the functionality \n",
    "    # def compute_account(self, amount):\n",
    "    #     if amount < 0 and self.balance < 100:\n",
    "\n",
    "    #         # update balance \n",
    "    #         self.balance = self.balance + amount - 5 \n",
    "    #         return self.balance \n",
    "        \n",
    "    #     self.balance = self.balance + amount \n",
    "    #     return self.balance"
   ]
  },
  {
   "cell_type": "code",
   "execution_count": 8,
   "metadata": {
    "colab": {},
    "colab_type": "code",
    "id": "512nenF2nVSF"
   },
   "outputs": [],
   "source": [
    "acct: SimpleAccount = SimpleAccount(110)\n",
    "out: list[Number] = acct.transduce([10, -25, -10, -5, 20, 20])\n",
    "assert out == [120, 95, 80, 70, 90, 110]"
   ]
  },
  {
   "cell_type": "markdown",
   "metadata": {
    "colab_type": "text",
    "id": "cftvQuMunlX4"
   },
   "source": [
    "**CS4.** *Graph:* We can consider graph search problem as a state-space search, where each state is a node in the graph and the transition between one state to another as an edge in the graph. Recall that we can represent graph using either a Dictionary or a Class. In this problem, we will use Dictionary to represent a graph where each node represents a state. For example, the image below can be represented as follows:\n",
    "\n",
    "```\n",
    "map = {\"S\": [\"A\", \"B\"],\n",
    "        \"A\": [\"S\", \"C\", \"D\"],\n",
    "        \"B\": [\"S\", \"D\", \"E\"],\n",
    "        \"C\": [\"A\", \"F\"],\n",
    "        \"D\": [\"A\", \"B\", \"F\", \"H\"],\n",
    "        \"E\": [\"B\", \"H\"],\n",
    "        \"F\": [\"C\", \"D\", \"G\"],\n",
    "        \"H\": [\"D\", \"E\", \"G\"],\n",
    "        \"G\": [\"F\", \"H\"]}\n",
    "```\n",
    "\n",
    "<img src=\"https://data-driven-world.github.io/2023/assets/images/state_space_map-11c07cbe83c95b6f8f8e9915f832ee3e.png\" width=\"600\"></img>\n",
    "\n",
    "Let's consider an action to be the index of the list in that Dictionary. For example, if my current state is \"S\", action 0 will give \"A\" as the next state while action 1 will give \"B\" as the next state. \n",
    "\n",
    "Write `MapSM` class and override the `get_next_values()` method to \n",
    "- `__init__(start)`: which initialize the `start_state` with `start` during object instantiation.\n",
    "- `get_next_values(state, inp)`: this method produces the next state based on the input and the current state. The next states are the neighbours of the current vertex based on the `inp`. The `inp` argument is the index of the next vertex to be visited. The state machine should remain in the current state if the input is not valid or when the current vertex has no neighbours.\n",
    "\n",
    "The class `MapSM` should implement `StateSpaceSearch` class which is an abstract class inheriting from `StateMachine` abstract class. The `StateSpaceSearch` abstract class requires `MapSM` to implement the properties:\n",
    "- `statemap`: which gives the dictionary or the map of the state space.\n",
    "- `legal_inputs`: which gives a `set` of legal inputs of this state space. This is a set of integers from 0 up to $n-1$ where $n$ is the largest number of neighbours of a state in the graph. \n"
   ]
  },
  {
   "cell_type": "code",
   "execution_count": 9,
   "metadata": {
    "colab": {},
    "colab_type": "code",
    "id": "3eLrWzkh8lS7"
   },
   "outputs": [],
   "source": [
    "from abc import abstractmethod\n",
    "\n",
    "class StateSpaceSearch(StateMachine):\n",
    "    \n",
    "    @property\n",
    "    @abstractmethod\n",
    "    def statemap(self):\n",
    "        pass\n",
    "\n",
    "    @property\n",
    "    @abstractmethod\n",
    "    def legal_inputs(self):\n",
    "        pass\n",
    "\n",
    "    @property\n",
    "    def start_state(self):\n",
    "        return self.__start_state\n",
    "    \n",
    "    @start_state.setter\n",
    "    def start_state(self, value):\n",
    "        self.__start_state = value\n",
    "    "
   ]
  },
  {
   "cell_type": "code",
   "execution_count": 15,
   "metadata": {
    "colab": {},
    "colab_type": "code",
    "id": "7GRETpwhn-aJ"
   },
   "outputs": [],
   "source": [
    "class MapSM(StateSpaceSearch):\n",
    "        \n",
    "    def __init__(self, start: str) -> None:\n",
    "        self.start_state = start\n",
    "\n",
    "    @property\n",
    "    def statemap(self) -> dict[str, list[str]]:\n",
    "        statemap = {\"S\": [\"A\", \"B\"],\n",
    "                    \"A\": [\"S\", \"C\", \"D\"],\n",
    "                    \"B\": [\"S\", \"D\", \"E\"],\n",
    "                    \"C\": [\"A\", \"F\"],\n",
    "                    \"D\": [\"A\", \"B\", \"F\", \"H\"],\n",
    "                    \"E\": [\"B\", \"H\"],\n",
    "                    \"F\": [\"C\", \"D\", \"G\"],\n",
    "                    \"H\": [\"D\", \"E\", \"G\"],\n",
    "                    \"G\": [\"F\", \"H\"]}\n",
    "        return statemap\n",
    "\n",
    "    # returns max possible actions in the statemap as a set instance \n",
    "    @property\n",
    "    def legal_inputs(self) -> set[int]:\n",
    "        max_neighbours = -1 \n",
    "        for state, neighbours in self.statemap.items():\n",
    "            number_of_neighbours = len(neighbours)\n",
    "            if number_of_neighbours > max_neighbours:\n",
    "                max_neighbours = number_of_neighbours\n",
    "        return set(range(max_neighbours)) # range does not include the end value \n",
    "        \n",
    "\n",
    "  \n",
    "    def get_next_values(self, state: str, inp: int) -> tuple[str, str]:\n",
    "        # check if inp is legal \n",
    "        if inp not in self.legal_inputs:\n",
    "            return state, state\n",
    "        \n",
    "        # we dont do self.statemap[state] because if state does not exist in the statemap, then our program crashes \n",
    "        # the .get function in Python dictionary will return the second argument if the key=state does not exist \n",
    "        neighbours = self.statemap.get(state, None) \n",
    "\n",
    "        # state does not exist \n",
    "        if neighbours is None:\n",
    "            return state, state \n",
    "\n",
    "        # state exists, but we have no neighbour in this state \n",
    "        if len(neighbours) == 0:\n",
    "            return state, state\n",
    "\n",
    "        # state exists, neighbour exists, but inp (action) is not legal \n",
    "        if inp >= len(neighbours):\n",
    "            return state, state \n",
    "\n",
    "        # when we reach here, it means we are safe: \n",
    "        # inp is legal, state exists in statemap, state has neighbour(s), and inp is legal for this state \n",
    "        next_state = neighbours[inp]\n",
    "        return next_state, next_state\n",
    "        \n",
    "            \n",
    "    "
   ]
  },
  {
   "cell_type": "code",
   "execution_count": 16,
   "metadata": {
    "colab": {},
    "colab_type": "code",
    "id": "bsU1E3Avo9iK"
   },
   "outputs": [],
   "source": [
    "mapSM: MapSM = MapSM(\"S\")\n",
    "mapSM.start()\n",
    "ans: list[int] = mapSM.transduce([0, 1, 1, 2, 0])\n",
    "assert ans == [\"A\", \"C\", \"F\", \"G\", \"F\"]\n",
    "assert mapSM.legal_inputs == set(range(4))"
   ]
  },
  {
   "cell_type": "markdown",
   "metadata": {
    "colab_type": "text",
    "id": "aKNHheJ3OqcY"
   },
   "source": [
    "**CS5.** Create a class to represent a node in a state-space search called `SearchNode`. The object instance of `SearchNode` has the following properties which should be initialized during instantiation.\n",
    "- `state`: which is the state or the label of the node.\n",
    "- `action`: which is the action that was taken to arrive at the node.\n",
    "- `parent`: which is the parent search node from which the current search node can be reached. If a node has no parent, this property should be initialized to `None`.\n",
    "\n",
    "The class has the following method:\n",
    "- `path()`: which returns a list of `Step` from the root node to the current node. The `Step` object is a class and is defined in the template. A `Step` object has two properties: `action` and `state`. You should use recursion for this method `path()`. The base case is when the node has no parent. In this case the solution contains only one step which is the action and the state of the current node. The recursive case is when the current has a `parent` object. In this case, you have to traverse to the ancestors' node until it reach a node which has no `parent` object. \n",
    "- `in_path(state)`: which returns `True` if the state in the argument is in the path. *Hint: use recursion and the parent's `in_path()` method.*"
   ]
  },
  {
   "cell_type": "code",
   "execution_count": 18,
   "metadata": {},
   "outputs": [],
   "source": [
    "class Step:\n",
    "    def __init__(self, action: Optional[int], state: str) -> None:\n",
    "        self.action: Optional[int] = action\n",
    "        self.state: str = state\n",
    "    \n",
    "    def __eq__(self, other) -> bool:\n",
    "        return self.action == other.action and self.state == other.state\n",
    "  \n",
    "    def __str__(self) -> str:\n",
    "        return f\"action: {self.action:}, state: {self.state:}\""
   ]
  },
  {
   "cell_type": "code",
   "execution_count": 19,
   "metadata": {
    "colab": {},
    "colab_type": "code",
    "id": "VBDudTg8PD49"
   },
   "outputs": [],
   "source": [
    "class SearchNode:\n",
    "    def __init__(self, action: Optional[int], state: str, parent: Optional[SearchNode]) -> None:\n",
    "        self.state: str = state\n",
    "        self.action: Optional[int] = action\n",
    "        self.parent: Optional[SearchNode] = parent\n",
    "\n",
    "    # we should access our parent, and our parent's parent, all the way up, until we reach the root node \n",
    "    # then, we return a list of Steps that represents the nodes from this state to the root state\n",
    "    def path(self) -> list[Step]:\n",
    "        # base case of recursion, no parent\n",
    "        if self.parent is None: \n",
    "            # self is a root node, return a step from this only \n",
    "            return [Step(self.action, self.state)]\n",
    "        else: # recursive case \n",
    "            return self.parent.path() + [Step(self.action, self.state)]\n",
    "  \n",
    "    def in_path(self, state: str) -> bool:\n",
    "        if self.state == state: # this state is in its own path \n",
    "            return True\n",
    "        elif self.parent is None: # if this state is a root state, then there's no other state in its path \n",
    "            return False\n",
    "        else:\n",
    "            # ask the parent to run in_path \n",
    "            return self.parent.in_path(state)\n",
    "  \n",
    "    def __eq__(self, other) -> bool:\n",
    "        if self is None and other is None:\n",
    "            return True\n",
    "        elif self is None:\n",
    "            return False\n",
    "        elif other is None:\n",
    "            return False\n",
    "        else:\n",
    "            return self.state == other.state and self.parent == other.parent and \\\n",
    "                   self.action == other.action"
   ]
  },
  {
   "cell_type": "code",
   "execution_count": 20,
   "metadata": {
    "colab": {},
    "colab_type": "code",
    "id": "C7BtnDpjQx2q"
   },
   "outputs": [],
   "source": [
    "s: SearchNode = SearchNode(None, \"S\", None) # reach S from None by taking action None --> S is the root\n",
    "a:  SearchNode = SearchNode(0, \"A\", s) # reach A from S by taking action 0\n",
    "b: SearchNode  = SearchNode(1, \"B\", s) # reach B from S by taking action 1\n",
    "s1: SearchNode  = SearchNode(0, \"S\", a)\n",
    "c: SearchNode  = SearchNode(1, \"C\", a)\n",
    "d1: SearchNode  = SearchNode(2, \"D\", a)\n",
    "s2: SearchNode  = SearchNode(0, \"S\", b)\n",
    "d2: SearchNode  = SearchNode(1, \"D\", b)\n",
    "e: SearchNode = SearchNode(2, \"E\", b)\n",
    "a1: SearchNode  = SearchNode(0, \"A\", s1)\n",
    "b1: SearchNode  = SearchNode(1, \"B\", s1)\n",
    "a2: SearchNode  = SearchNode(0, \"A\", c)\n",
    "f1: SearchNode  = SearchNode(1, \"F\", c)\n",
    "a3: SearchNode  = SearchNode(0, \"A\", d1)\n",
    "b2: SearchNode  = SearchNode(1, \"B\", d1)\n",
    "f2: SearchNode  = SearchNode(2, \"F\", d1)\n",
    "h1: SearchNode  = SearchNode(3, \"H\", d1)\n",
    "a4: SearchNode  = SearchNode(0, \"A\", s2)\n",
    "b3: SearchNode  = SearchNode(1, \"B\", s2)\n",
    "a5: SearchNode  = SearchNode(0, \"A\", d2)\n",
    "b4: SearchNode  = SearchNode(1, \"B\", d2)\n",
    "f3: SearchNode  = SearchNode(2, \"F\", d2)\n",
    "h2: SearchNode  = SearchNode(3, \"H\", d2)\n",
    "b5: SearchNode  = SearchNode(0, \"B\", e)\n",
    "h3: SearchNode  = SearchNode(1, \"H\", e)\n",
    "\n",
    "assert s.parent == None\n",
    "assert a.state == \"A\" and a.parent == s and a.action == 0\n",
    "assert b.state == \"B\" and b.parent == s and b.action == 1\n",
    "assert h3.state == \"H\" and h3.parent == e and h3.action == 1\n",
    "assert a5.path() == [Step(None, \"S\"), Step(1, \"B\"), Step(1, \"D\"), Step(0, \"A\")]\n",
    "assert b5.in_path(\"B\")\n",
    "assert b5.in_path(\"S\")\n",
    "assert b5.in_path(\"E\")"
   ]
  }
 ],
 "metadata": {
  "colab": {
   "authorship_tag": "ABX9TyMsrjE4/RG3uAz1unox/1ZQ",
   "collapsed_sections": [],
   "include_colab_link": true,
   "name": "Week08_ProblemSet.ipynb",
   "provenance": []
  },
  "kernelspec": {
   "display_name": "Python 3",
   "language": "python",
   "name": "python3"
  },
  "language_info": {
   "codemirror_mode": {
    "name": "ipython",
    "version": 3
   },
   "file_extension": ".py",
   "mimetype": "text/x-python",
   "name": "python",
   "nbconvert_exporter": "python",
   "pygments_lexer": "ipython3",
   "version": "3.10.4"
  }
 },
 "nbformat": 4,
 "nbformat_minor": 4
}
