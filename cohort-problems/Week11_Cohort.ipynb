{
 "cells": [
  {
   "cell_type": "markdown",
   "metadata": {},
   "source": [
    "# Week 11 Problem Set\n"
   ]
  },
  {
   "cell_type": "code",
   "execution_count": 6,
   "metadata": {},
   "outputs": [
    {
     "name": "stdout",
     "output_type": "stream",
     "text": [
      "The nb_mypy extension is already loaded. To reload it, use:\n",
      "  %reload_ext nb_mypy\n"
     ]
    }
   ],
   "source": [
    "%load_ext nb_mypy\n",
    "%nb_mypy On"
   ]
  },
  {
   "cell_type": "code",
   "execution_count": 7,
   "metadata": {},
   "outputs": [],
   "source": [
    "from typing import TypeAlias\n",
    "from typing import Optional, Any    \n",
    "\n",
    "Number: TypeAlias = int | float"
   ]
  },
  {
   "cell_type": "code",
   "execution_count": 8,
   "metadata": {},
   "outputs": [],
   "source": [
    "import pandas as pd\n",
    "import numpy as np\n",
    "import matplotlib.pyplot as plt\n",
    "import matplotlib.axes as axes\n",
    "from IPython.display import display"
   ]
  },
  {
   "cell_type": "markdown",
   "metadata": {},
   "source": [
    "\n",
    "## Cohort Session"
   ]
  },
  {
   "cell_type": "markdown",
   "metadata": {},
   "source": [
    "**CS0.** Do the following tasks before you start with the first cohort session.\n",
    "\n",
    "**Task 1.** Paste the following functions from your previous work:\n",
    "- `get_features_targets()`\n",
    "- `normalize_z()`\n",
    "- `prepare_feature()`\n",
    "- `prepare_target()`\n",
    "- `split_data()`\n"
   ]
  },
  {
   "cell_type": "code",
   "execution_count": 9,
   "metadata": {},
   "outputs": [],
   "source": [
    "def normalize_z(array: np.ndarray, columns_means: Optional[np.ndarray]=None, \n",
    "                columns_stds: Optional[np.ndarray]=None) -> tuple[np.ndarray, np.ndarray, np.ndarray]:\n",
    "    # check for optional values \n",
    "    if columns_means is None:\n",
    "        # compute\n",
    "        columns_means = array.mean(axis=0) \n",
    "    if columns_stds is None:\n",
    "        # compute\n",
    "        columns_stds = array.std(axis=0) \n",
    "    normalized_columns: np.ndarray = (array - columns_means) / columns_stds\n",
    "    return normalized_columns, columns_means, columns_stds\n",
    "\n",
    "\n",
    "def get_features_targets(df: pd.DataFrame, \n",
    "                         feature_names: list[str], \n",
    "                         target_names: list[str]) -> tuple[pd.DataFrame, pd.DataFrame]:\n",
    "    df_feature: pd.DataFrame = df[feature_names]\n",
    "    df_target: pd.DataFrame = df[target_names] \n",
    "    pass\n",
    "    return df_feature, df_target\n",
    "\n",
    "def prepare_feature(np_feature: np.ndarray) -> np.ndarray:\n",
    "   # this function returns the X matrix \n",
    "   # given a feature vector / matrix, augment it with column of 1s as the first column\n",
    "   # feature: [[x1], [x2], [x3]] \n",
    "   # X:[[1, x1], [1, x2], [1, x3]] \n",
    "\n",
    "   number_of_rows = np_feature.shape[0]\n",
    "   \n",
    "   # create a vector of ones, with rows as many as the np_feature rows \n",
    "   column_of_ones = np.ones((number_of_rows,1))\n",
    "   \n",
    "   X = np.concatenate((column_of_ones,np_feature), axis=1 )\n",
    "\n",
    "   return X\n",
    "\n",
    "def split_data(df_feature: pd.DataFrame, df_target: pd.DataFrame, \n",
    "               random_state: Optional[int]=None, \n",
    "               test_size: float=0.5) -> tuple[pd.DataFrame, pd.DataFrame, pd.DataFrame, pd.DataFrame]:\n",
    "\n",
    "    # get all the indexes (row index) of the complete dataset  \n",
    "    indexes = df_feature.index  # e.g: 0, 1, 2, 3, ... 999\n",
    "\n",
    "    # check whether random state is given \n",
    "    if random_state != None:\n",
    "        np.random.seed(random_state) # if random_state is None, then we don't execute this line \n",
    "\n",
    "    # if random_state in None, then we will have a different set of train/test set each time we call this function\n",
    "    # otherwise, it will be the same selection each time \n",
    "\n",
    "    # e.g: if test_size is 0.3, and len(indexes) is 1000, then test_set_size will be 300\n",
    "    test_set_size = int(test_size * len(indexes)) # this will be the amount of dataset in the test set \n",
    "\n",
    "    # test_index will be a random 30% selection of indexes \n",
    "    # replace = False tells numpy that we won't have repeated indexes \n",
    "    test_index = np.random.choice(indexes, test_set_size, replace=False)\n",
    "\n",
    "    train_index = indexes.drop(test_index) \n",
    "    df_feature_train = df_feature.loc[train_index, :]\n",
    "    df_feature_test = df_feature.loc[test_index,:]\n",
    "    df_target_train = df_target.loc[train_index]\n",
    "    df_target_test = df_target.loc[test_index,:]\n",
    "    \n",
    "    return df_feature_train, df_feature_test, df_target_train, df_target_test\n",
    "    \n"
   ]
  },
  {
   "cell_type": "markdown",
   "metadata": {},
   "source": [
    "**Task 2.** Load the breast cancer data from `breast_cancer_data.csv` into a Data Frame. "
   ]
  },
  {
   "cell_type": "code",
   "execution_count": 11,
   "metadata": {},
   "outputs": [
    {
     "data": {
      "text/html": [
       "<div>\n",
       "<style scoped>\n",
       "    .dataframe tbody tr th:only-of-type {\n",
       "        vertical-align: middle;\n",
       "    }\n",
       "\n",
       "    .dataframe tbody tr th {\n",
       "        vertical-align: top;\n",
       "    }\n",
       "\n",
       "    .dataframe thead th {\n",
       "        text-align: right;\n",
       "    }\n",
       "</style>\n",
       "<table border=\"1\" class=\"dataframe\">\n",
       "  <thead>\n",
       "    <tr style=\"text-align: right;\">\n",
       "      <th></th>\n",
       "      <th>id</th>\n",
       "      <th>diagnosis</th>\n",
       "      <th>radius_mean</th>\n",
       "      <th>texture_mean</th>\n",
       "      <th>perimeter_mean</th>\n",
       "      <th>area_mean</th>\n",
       "      <th>smoothness_mean</th>\n",
       "      <th>compactness_mean</th>\n",
       "      <th>concavity_mean</th>\n",
       "      <th>concave points_mean</th>\n",
       "      <th>...</th>\n",
       "      <th>radius_worst</th>\n",
       "      <th>texture_worst</th>\n",
       "      <th>perimeter_worst</th>\n",
       "      <th>area_worst</th>\n",
       "      <th>smoothness_worst</th>\n",
       "      <th>compactness_worst</th>\n",
       "      <th>concavity_worst</th>\n",
       "      <th>concave points_worst</th>\n",
       "      <th>symmetry_worst</th>\n",
       "      <th>fractal_dimension_worst</th>\n",
       "    </tr>\n",
       "  </thead>\n",
       "  <tbody>\n",
       "    <tr>\n",
       "      <th>0</th>\n",
       "      <td>842302</td>\n",
       "      <td>M</td>\n",
       "      <td>17.99</td>\n",
       "      <td>10.38</td>\n",
       "      <td>122.80</td>\n",
       "      <td>1001.0</td>\n",
       "      <td>0.11840</td>\n",
       "      <td>0.27760</td>\n",
       "      <td>0.30010</td>\n",
       "      <td>0.14710</td>\n",
       "      <td>...</td>\n",
       "      <td>25.380</td>\n",
       "      <td>17.33</td>\n",
       "      <td>184.60</td>\n",
       "      <td>2019.0</td>\n",
       "      <td>0.16220</td>\n",
       "      <td>0.66560</td>\n",
       "      <td>0.7119</td>\n",
       "      <td>0.2654</td>\n",
       "      <td>0.4601</td>\n",
       "      <td>0.11890</td>\n",
       "    </tr>\n",
       "    <tr>\n",
       "      <th>1</th>\n",
       "      <td>842517</td>\n",
       "      <td>M</td>\n",
       "      <td>20.57</td>\n",
       "      <td>17.77</td>\n",
       "      <td>132.90</td>\n",
       "      <td>1326.0</td>\n",
       "      <td>0.08474</td>\n",
       "      <td>0.07864</td>\n",
       "      <td>0.08690</td>\n",
       "      <td>0.07017</td>\n",
       "      <td>...</td>\n",
       "      <td>24.990</td>\n",
       "      <td>23.41</td>\n",
       "      <td>158.80</td>\n",
       "      <td>1956.0</td>\n",
       "      <td>0.12380</td>\n",
       "      <td>0.18660</td>\n",
       "      <td>0.2416</td>\n",
       "      <td>0.1860</td>\n",
       "      <td>0.2750</td>\n",
       "      <td>0.08902</td>\n",
       "    </tr>\n",
       "    <tr>\n",
       "      <th>2</th>\n",
       "      <td>84300903</td>\n",
       "      <td>M</td>\n",
       "      <td>19.69</td>\n",
       "      <td>21.25</td>\n",
       "      <td>130.00</td>\n",
       "      <td>1203.0</td>\n",
       "      <td>0.10960</td>\n",
       "      <td>0.15990</td>\n",
       "      <td>0.19740</td>\n",
       "      <td>0.12790</td>\n",
       "      <td>...</td>\n",
       "      <td>23.570</td>\n",
       "      <td>25.53</td>\n",
       "      <td>152.50</td>\n",
       "      <td>1709.0</td>\n",
       "      <td>0.14440</td>\n",
       "      <td>0.42450</td>\n",
       "      <td>0.4504</td>\n",
       "      <td>0.2430</td>\n",
       "      <td>0.3613</td>\n",
       "      <td>0.08758</td>\n",
       "    </tr>\n",
       "    <tr>\n",
       "      <th>3</th>\n",
       "      <td>84348301</td>\n",
       "      <td>M</td>\n",
       "      <td>11.42</td>\n",
       "      <td>20.38</td>\n",
       "      <td>77.58</td>\n",
       "      <td>386.1</td>\n",
       "      <td>0.14250</td>\n",
       "      <td>0.28390</td>\n",
       "      <td>0.24140</td>\n",
       "      <td>0.10520</td>\n",
       "      <td>...</td>\n",
       "      <td>14.910</td>\n",
       "      <td>26.50</td>\n",
       "      <td>98.87</td>\n",
       "      <td>567.7</td>\n",
       "      <td>0.20980</td>\n",
       "      <td>0.86630</td>\n",
       "      <td>0.6869</td>\n",
       "      <td>0.2575</td>\n",
       "      <td>0.6638</td>\n",
       "      <td>0.17300</td>\n",
       "    </tr>\n",
       "    <tr>\n",
       "      <th>4</th>\n",
       "      <td>84358402</td>\n",
       "      <td>M</td>\n",
       "      <td>20.29</td>\n",
       "      <td>14.34</td>\n",
       "      <td>135.10</td>\n",
       "      <td>1297.0</td>\n",
       "      <td>0.10030</td>\n",
       "      <td>0.13280</td>\n",
       "      <td>0.19800</td>\n",
       "      <td>0.10430</td>\n",
       "      <td>...</td>\n",
       "      <td>22.540</td>\n",
       "      <td>16.67</td>\n",
       "      <td>152.20</td>\n",
       "      <td>1575.0</td>\n",
       "      <td>0.13740</td>\n",
       "      <td>0.20500</td>\n",
       "      <td>0.4000</td>\n",
       "      <td>0.1625</td>\n",
       "      <td>0.2364</td>\n",
       "      <td>0.07678</td>\n",
       "    </tr>\n",
       "    <tr>\n",
       "      <th>...</th>\n",
       "      <td>...</td>\n",
       "      <td>...</td>\n",
       "      <td>...</td>\n",
       "      <td>...</td>\n",
       "      <td>...</td>\n",
       "      <td>...</td>\n",
       "      <td>...</td>\n",
       "      <td>...</td>\n",
       "      <td>...</td>\n",
       "      <td>...</td>\n",
       "      <td>...</td>\n",
       "      <td>...</td>\n",
       "      <td>...</td>\n",
       "      <td>...</td>\n",
       "      <td>...</td>\n",
       "      <td>...</td>\n",
       "      <td>...</td>\n",
       "      <td>...</td>\n",
       "      <td>...</td>\n",
       "      <td>...</td>\n",
       "      <td>...</td>\n",
       "    </tr>\n",
       "    <tr>\n",
       "      <th>564</th>\n",
       "      <td>926424</td>\n",
       "      <td>M</td>\n",
       "      <td>21.56</td>\n",
       "      <td>22.39</td>\n",
       "      <td>142.00</td>\n",
       "      <td>1479.0</td>\n",
       "      <td>0.11100</td>\n",
       "      <td>0.11590</td>\n",
       "      <td>0.24390</td>\n",
       "      <td>0.13890</td>\n",
       "      <td>...</td>\n",
       "      <td>25.450</td>\n",
       "      <td>26.40</td>\n",
       "      <td>166.10</td>\n",
       "      <td>2027.0</td>\n",
       "      <td>0.14100</td>\n",
       "      <td>0.21130</td>\n",
       "      <td>0.4107</td>\n",
       "      <td>0.2216</td>\n",
       "      <td>0.2060</td>\n",
       "      <td>0.07115</td>\n",
       "    </tr>\n",
       "    <tr>\n",
       "      <th>565</th>\n",
       "      <td>926682</td>\n",
       "      <td>M</td>\n",
       "      <td>20.13</td>\n",
       "      <td>28.25</td>\n",
       "      <td>131.20</td>\n",
       "      <td>1261.0</td>\n",
       "      <td>0.09780</td>\n",
       "      <td>0.10340</td>\n",
       "      <td>0.14400</td>\n",
       "      <td>0.09791</td>\n",
       "      <td>...</td>\n",
       "      <td>23.690</td>\n",
       "      <td>38.25</td>\n",
       "      <td>155.00</td>\n",
       "      <td>1731.0</td>\n",
       "      <td>0.11660</td>\n",
       "      <td>0.19220</td>\n",
       "      <td>0.3215</td>\n",
       "      <td>0.1628</td>\n",
       "      <td>0.2572</td>\n",
       "      <td>0.06637</td>\n",
       "    </tr>\n",
       "    <tr>\n",
       "      <th>566</th>\n",
       "      <td>926954</td>\n",
       "      <td>M</td>\n",
       "      <td>16.60</td>\n",
       "      <td>28.08</td>\n",
       "      <td>108.30</td>\n",
       "      <td>858.1</td>\n",
       "      <td>0.08455</td>\n",
       "      <td>0.10230</td>\n",
       "      <td>0.09251</td>\n",
       "      <td>0.05302</td>\n",
       "      <td>...</td>\n",
       "      <td>18.980</td>\n",
       "      <td>34.12</td>\n",
       "      <td>126.70</td>\n",
       "      <td>1124.0</td>\n",
       "      <td>0.11390</td>\n",
       "      <td>0.30940</td>\n",
       "      <td>0.3403</td>\n",
       "      <td>0.1418</td>\n",
       "      <td>0.2218</td>\n",
       "      <td>0.07820</td>\n",
       "    </tr>\n",
       "    <tr>\n",
       "      <th>567</th>\n",
       "      <td>927241</td>\n",
       "      <td>M</td>\n",
       "      <td>20.60</td>\n",
       "      <td>29.33</td>\n",
       "      <td>140.10</td>\n",
       "      <td>1265.0</td>\n",
       "      <td>0.11780</td>\n",
       "      <td>0.27700</td>\n",
       "      <td>0.35140</td>\n",
       "      <td>0.15200</td>\n",
       "      <td>...</td>\n",
       "      <td>25.740</td>\n",
       "      <td>39.42</td>\n",
       "      <td>184.60</td>\n",
       "      <td>1821.0</td>\n",
       "      <td>0.16500</td>\n",
       "      <td>0.86810</td>\n",
       "      <td>0.9387</td>\n",
       "      <td>0.2650</td>\n",
       "      <td>0.4087</td>\n",
       "      <td>0.12400</td>\n",
       "    </tr>\n",
       "    <tr>\n",
       "      <th>568</th>\n",
       "      <td>92751</td>\n",
       "      <td>B</td>\n",
       "      <td>7.76</td>\n",
       "      <td>24.54</td>\n",
       "      <td>47.92</td>\n",
       "      <td>181.0</td>\n",
       "      <td>0.05263</td>\n",
       "      <td>0.04362</td>\n",
       "      <td>0.00000</td>\n",
       "      <td>0.00000</td>\n",
       "      <td>...</td>\n",
       "      <td>9.456</td>\n",
       "      <td>30.37</td>\n",
       "      <td>59.16</td>\n",
       "      <td>268.6</td>\n",
       "      <td>0.08996</td>\n",
       "      <td>0.06444</td>\n",
       "      <td>0.0000</td>\n",
       "      <td>0.0000</td>\n",
       "      <td>0.2871</td>\n",
       "      <td>0.07039</td>\n",
       "    </tr>\n",
       "  </tbody>\n",
       "</table>\n",
       "<p>569 rows × 32 columns</p>\n",
       "</div>"
      ],
      "text/plain": [
       "           id diagnosis  radius_mean  texture_mean  perimeter_mean  area_mean  \\\n",
       "0      842302         M        17.99         10.38          122.80     1001.0   \n",
       "1      842517         M        20.57         17.77          132.90     1326.0   \n",
       "2    84300903         M        19.69         21.25          130.00     1203.0   \n",
       "3    84348301         M        11.42         20.38           77.58      386.1   \n",
       "4    84358402         M        20.29         14.34          135.10     1297.0   \n",
       "..        ...       ...          ...           ...             ...        ...   \n",
       "564    926424         M        21.56         22.39          142.00     1479.0   \n",
       "565    926682         M        20.13         28.25          131.20     1261.0   \n",
       "566    926954         M        16.60         28.08          108.30      858.1   \n",
       "567    927241         M        20.60         29.33          140.10     1265.0   \n",
       "568     92751         B         7.76         24.54           47.92      181.0   \n",
       "\n",
       "     smoothness_mean  compactness_mean  concavity_mean  concave points_mean  \\\n",
       "0            0.11840           0.27760         0.30010              0.14710   \n",
       "1            0.08474           0.07864         0.08690              0.07017   \n",
       "2            0.10960           0.15990         0.19740              0.12790   \n",
       "3            0.14250           0.28390         0.24140              0.10520   \n",
       "4            0.10030           0.13280         0.19800              0.10430   \n",
       "..               ...               ...             ...                  ...   \n",
       "564          0.11100           0.11590         0.24390              0.13890   \n",
       "565          0.09780           0.10340         0.14400              0.09791   \n",
       "566          0.08455           0.10230         0.09251              0.05302   \n",
       "567          0.11780           0.27700         0.35140              0.15200   \n",
       "568          0.05263           0.04362         0.00000              0.00000   \n",
       "\n",
       "     ...  radius_worst  texture_worst  perimeter_worst  area_worst  \\\n",
       "0    ...        25.380          17.33           184.60      2019.0   \n",
       "1    ...        24.990          23.41           158.80      1956.0   \n",
       "2    ...        23.570          25.53           152.50      1709.0   \n",
       "3    ...        14.910          26.50            98.87       567.7   \n",
       "4    ...        22.540          16.67           152.20      1575.0   \n",
       "..   ...           ...            ...              ...         ...   \n",
       "564  ...        25.450          26.40           166.10      2027.0   \n",
       "565  ...        23.690          38.25           155.00      1731.0   \n",
       "566  ...        18.980          34.12           126.70      1124.0   \n",
       "567  ...        25.740          39.42           184.60      1821.0   \n",
       "568  ...         9.456          30.37            59.16       268.6   \n",
       "\n",
       "     smoothness_worst  compactness_worst  concavity_worst  \\\n",
       "0             0.16220            0.66560           0.7119   \n",
       "1             0.12380            0.18660           0.2416   \n",
       "2             0.14440            0.42450           0.4504   \n",
       "3             0.20980            0.86630           0.6869   \n",
       "4             0.13740            0.20500           0.4000   \n",
       "..                ...                ...              ...   \n",
       "564           0.14100            0.21130           0.4107   \n",
       "565           0.11660            0.19220           0.3215   \n",
       "566           0.11390            0.30940           0.3403   \n",
       "567           0.16500            0.86810           0.9387   \n",
       "568           0.08996            0.06444           0.0000   \n",
       "\n",
       "     concave points_worst  symmetry_worst  fractal_dimension_worst  \n",
       "0                  0.2654          0.4601                  0.11890  \n",
       "1                  0.1860          0.2750                  0.08902  \n",
       "2                  0.2430          0.3613                  0.08758  \n",
       "3                  0.2575          0.6638                  0.17300  \n",
       "4                  0.1625          0.2364                  0.07678  \n",
       "..                    ...             ...                      ...  \n",
       "564                0.2216          0.2060                  0.07115  \n",
       "565                0.1628          0.2572                  0.06637  \n",
       "566                0.1418          0.2218                  0.07820  \n",
       "567                0.2650          0.4087                  0.12400  \n",
       "568                0.0000          0.2871                  0.07039  \n",
       "\n",
       "[569 rows x 32 columns]"
      ]
     },
     "execution_count": 11,
     "metadata": {},
     "output_type": "execute_result"
    }
   ],
   "source": [
    "# read breast_cancer_data.csv\n",
    "# df: pd.DataFrame = None\n",
    "\n",
    "### BEGIN SOLUTION\n",
    "df = pd.read_csv(\"breast_cancer_data.csv\")\n",
    "### END SOLUTION\n",
    "\n",
    "df"
   ]
  },
  {
   "cell_type": "markdown",
   "metadata": {},
   "source": [
    "**Task 3.** Do the following tasks.\n",
    "\n",
    "- Read the following columns\n",
    "    - feature: `radius_mean`\n",
    "    - target: `diagnosis`\n",
    "- Normalize the feature column using z normalization."
   ]
  },
  {
   "cell_type": "code",
   "execution_count": 13,
   "metadata": {},
   "outputs": [
    {
     "data": {
      "text/html": [
       "<div>\n",
       "<style scoped>\n",
       "    .dataframe tbody tr th:only-of-type {\n",
       "        vertical-align: middle;\n",
       "    }\n",
       "\n",
       "    .dataframe tbody tr th {\n",
       "        vertical-align: top;\n",
       "    }\n",
       "\n",
       "    .dataframe thead th {\n",
       "        text-align: right;\n",
       "    }\n",
       "</style>\n",
       "<table border=\"1\" class=\"dataframe\">\n",
       "  <thead>\n",
       "    <tr style=\"text-align: right;\">\n",
       "      <th></th>\n",
       "      <th>radius_mean</th>\n",
       "    </tr>\n",
       "  </thead>\n",
       "  <tbody>\n",
       "    <tr>\n",
       "      <th>0</th>\n",
       "      <td>17.99</td>\n",
       "    </tr>\n",
       "    <tr>\n",
       "      <th>1</th>\n",
       "      <td>20.57</td>\n",
       "    </tr>\n",
       "    <tr>\n",
       "      <th>2</th>\n",
       "      <td>19.69</td>\n",
       "    </tr>\n",
       "    <tr>\n",
       "      <th>3</th>\n",
       "      <td>11.42</td>\n",
       "    </tr>\n",
       "    <tr>\n",
       "      <th>4</th>\n",
       "      <td>20.29</td>\n",
       "    </tr>\n",
       "    <tr>\n",
       "      <th>...</th>\n",
       "      <td>...</td>\n",
       "    </tr>\n",
       "    <tr>\n",
       "      <th>564</th>\n",
       "      <td>21.56</td>\n",
       "    </tr>\n",
       "    <tr>\n",
       "      <th>565</th>\n",
       "      <td>20.13</td>\n",
       "    </tr>\n",
       "    <tr>\n",
       "      <th>566</th>\n",
       "      <td>16.60</td>\n",
       "    </tr>\n",
       "    <tr>\n",
       "      <th>567</th>\n",
       "      <td>20.60</td>\n",
       "    </tr>\n",
       "    <tr>\n",
       "      <th>568</th>\n",
       "      <td>7.76</td>\n",
       "    </tr>\n",
       "  </tbody>\n",
       "</table>\n",
       "<p>569 rows × 1 columns</p>\n",
       "</div>"
      ],
      "text/plain": [
       "     radius_mean\n",
       "0          17.99\n",
       "1          20.57\n",
       "2          19.69\n",
       "3          11.42\n",
       "4          20.29\n",
       "..           ...\n",
       "564        21.56\n",
       "565        20.13\n",
       "566        16.60\n",
       "567        20.60\n",
       "568         7.76\n",
       "\n",
       "[569 rows x 1 columns]"
      ]
     },
     "execution_count": 13,
     "metadata": {},
     "output_type": "execute_result"
    }
   ],
   "source": [
    "# extract the feature and the target\n",
    "# df_feature, df_target = None, None\n",
    "\n",
    "# normalize the feature\n",
    "# array_feature,_,_ = None, None, None\n",
    "\n",
    "### BEGIN SOLUTION\n",
    "df_feature, df_target = get_features_targets(df, [\"radius_mean\"], [\"diagnosis\"])\n",
    "### END SOLUTION\n",
    "\n",
    "df_target \n",
    "df_feature"
   ]
  },
  {
   "cell_type": "markdown",
   "metadata": {},
   "source": [
    "**Task 4.** Write a function `replace_target()` to replace the `diagnosis` column with the following mapping:\n",
    "    - `M`: `1`, this means that malignant cell are indicated as `1` in our new column.\n",
    "    - `B`: `0`, this means that benign cell are indicated as `0` in our new column.\n",
    "    \n",
    "The function should takes in the following:\n",
    "\n",
    "- `df_target`: the target data frame\n",
    "- `target_name`: which is the column name of the target data frame\n",
    "- `map`: which is a dictionary containing the map\n",
    "    \n",
    "It should returns a new data frame with the same column name but with its values changed according to the mapping."
   ]
  },
  {
   "cell_type": "code",
   "execution_count": 14,
   "metadata": {},
   "outputs": [],
   "source": [
    "# target_name: the column name to replace\n",
    "# map_vals: how we want to map the element of each column? e.g: M --> 1, B --> 0\n",
    "# we tend to label the \"more important class\" as 1, in this case, M (malignant) feels more important \n",
    "def replace_target(df_target: pd.DataFrame, \n",
    "                   target_name: str, map_vals: dict[Any, Any]) -> pd.DataFrame:\n",
    "    # df_target initially contains rows of \"M\" or \"B\" \n",
    "    # we want to replace all M as 1, and all B as 0 \n",
    "\n",
    "    # make a copy of the df_target \n",
    "    df_out = df_target.copy() # this is a deep copy, changing df_out will not change df_target \n",
    "\n",
    "    # replace the value of all rows with target_name \n",
    "    # we are applying the function lambda x: map_vals[x] to all rows of \"target_name\" \n",
    "    # the return value of the lambda function will be stored into each element (row) of df_target[target_name]\n",
    "    # the .apply function returns a new dataframe \n",
    "    df_out.loc[:, target_name] = df_target[target_name].apply(lambda x: map_vals[x])\n",
    "    return df_out\n",
    "\n",
    "# lambda x: map_vals[x] is equivalent to: \n",
    "def replace_value(x, map_vals):\n",
    "    return map_vals[x]"
   ]
  },
  {
   "cell_type": "code",
   "execution_count": 15,
   "metadata": {},
   "outputs": [
    {
     "name": "stderr",
     "output_type": "stream",
     "text": [
      "/var/folders/b3/pvp9jvbs7b7dcgq7357wcymr0000gp/T/ipykernel_15980/2757786756.py:16: FutureWarning: In a future version, `df.iloc[:, i] = newvals` will attempt to set the values inplace instead of always setting a new array. To retain the old behavior, use either `df[df.columns[i]] = newvals` or, if columns are non-unique, `df.isetitem(i, newvals)`\n",
      "  df_out.loc[:, target_name] = df_target[target_name].apply(lambda x: map_vals[x])\n"
     ]
    },
    {
     "data": {
      "text/html": [
       "<div>\n",
       "<style scoped>\n",
       "    .dataframe tbody tr th:only-of-type {\n",
       "        vertical-align: middle;\n",
       "    }\n",
       "\n",
       "    .dataframe tbody tr th {\n",
       "        vertical-align: top;\n",
       "    }\n",
       "\n",
       "    .dataframe thead th {\n",
       "        text-align: right;\n",
       "    }\n",
       "</style>\n",
       "<table border=\"1\" class=\"dataframe\">\n",
       "  <thead>\n",
       "    <tr style=\"text-align: right;\">\n",
       "      <th></th>\n",
       "      <th>diagnosis</th>\n",
       "    </tr>\n",
       "  </thead>\n",
       "  <tbody>\n",
       "    <tr>\n",
       "      <th>0</th>\n",
       "      <td>1</td>\n",
       "    </tr>\n",
       "    <tr>\n",
       "      <th>1</th>\n",
       "      <td>1</td>\n",
       "    </tr>\n",
       "    <tr>\n",
       "      <th>2</th>\n",
       "      <td>1</td>\n",
       "    </tr>\n",
       "    <tr>\n",
       "      <th>3</th>\n",
       "      <td>1</td>\n",
       "    </tr>\n",
       "    <tr>\n",
       "      <th>4</th>\n",
       "      <td>1</td>\n",
       "    </tr>\n",
       "    <tr>\n",
       "      <th>...</th>\n",
       "      <td>...</td>\n",
       "    </tr>\n",
       "    <tr>\n",
       "      <th>564</th>\n",
       "      <td>1</td>\n",
       "    </tr>\n",
       "    <tr>\n",
       "      <th>565</th>\n",
       "      <td>1</td>\n",
       "    </tr>\n",
       "    <tr>\n",
       "      <th>566</th>\n",
       "      <td>1</td>\n",
       "    </tr>\n",
       "    <tr>\n",
       "      <th>567</th>\n",
       "      <td>1</td>\n",
       "    </tr>\n",
       "    <tr>\n",
       "      <th>568</th>\n",
       "      <td>0</td>\n",
       "    </tr>\n",
       "  </tbody>\n",
       "</table>\n",
       "<p>569 rows × 1 columns</p>\n",
       "</div>"
      ],
      "text/plain": [
       "     diagnosis\n",
       "0            1\n",
       "1            1\n",
       "2            1\n",
       "3            1\n",
       "4            1\n",
       "..         ...\n",
       "564          1\n",
       "565          1\n",
       "566          1\n",
       "567          1\n",
       "568          0\n",
       "\n",
       "[569 rows x 1 columns]"
      ]
     },
     "execution_count": 15,
     "metadata": {},
     "output_type": "execute_result"
    }
   ],
   "source": [
    "df_target: pd.DataFrame = replace_target(df_target, \"diagnosis\", {'M': 1, 'B': 0})\n",
    "df_target"
   ]
  },
  {
   "cell_type": "markdown",
   "metadata": {},
   "source": [
    "**Task 5.** Do the following tasks.\n",
    "- Change feature to Numpy array and append constant 1 column.\n",
    "- Change target to Numpy array"
   ]
  },
  {
   "cell_type": "code",
   "execution_count": 9,
   "metadata": {},
   "outputs": [],
   "source": [
    "# change feature data frame to numpy array and append column 1\n",
    "# feature: np.ndarray = None\n",
    "\n",
    "# change target data frame to numpy array\n",
    "# target: np.ndarray = None\n",
    "\n",
    "### BEGIN SOLUTION\n",
    "# get the X matrix from the features\n",
    "feature: np.array = prepare_feature(df_feature) \n",
    "target = df_target.to_numpy()\n",
    "### END SOLUTION"
   ]
  },
  {
   "cell_type": "markdown",
   "metadata": {},
   "source": [
    "**CS1.** *Logistic function:* Write a function to calculate the hypothesis using a logistic function. Recall that the hypothesis for a logistic regression model is written as:\n",
    "\n",
    "$$\\mathbf{p}(x) = \\frac{1}{1 + e^{-\\mathbf{X}\\mathbf{b}}}$$\n",
    "\n",
    "The shape of the input is as follows:\n",
    "- $\\mathbf{b}$: is a column vector for the parameters\n",
    "- $\\mathbf{X}$: is a matrix where the number of rows are the number of data points and the the number of columns must the same as the number of parameters in $\\mathbf{b}$.\n",
    "\n",
    "Note that you need to ensure that the output is a **column vector**. \n",
    "\n",
    "You can use the following functions:\n",
    "- `np.matmul(array1, array2)`: which is to perform matrix multiplication on the two numpy arrays.\n",
    "- `np.exp()`: which is to calculate the function $e^x$"
   ]
  },
  {
   "cell_type": "code",
   "execution_count": 16,
   "metadata": {},
   "outputs": [],
   "source": [
    "# this analogous to last week's calc_linreg\n",
    "# same signature: args needed are X and beta, return value is a float \n",
    "def calc_logreg(X: np.ndarray, beta: np.ndarray) -> np.ndarray:\n",
    "    X: np.ndarray = X.astype(float)\n",
    "    beta: np.ndarray = beta.astype(float)\n",
    "    out = 1.0/(1.0 + np.exp(np.matmul(X, -beta))) # 1/(1+e^(-Xb))\n",
    "    return out"
   ]
  },
  {
   "cell_type": "code",
   "execution_count": 17,
   "metadata": {},
   "outputs": [],
   "source": [
    "beta: np.ndarray = np.array([0])\n",
    "x: np.ndarray = np.array([0])\n",
    "ans: np.ndarray = calc_logreg(x, beta)\n",
    "assert ans == 0.5\n",
    "\n",
    "beta: np.ndarray  = np.array([2])\n",
    "x: np.ndarray  = np.array([40])\n",
    "ans: np.ndarray  = calc_logreg(x, beta)\n",
    "assert np.isclose(ans, 1.0)\n",
    "\n",
    "beta: np.ndarray  = np.array([2])\n",
    "x: np.ndarray  = np.array([-40])\n",
    "ans: np.ndarray  = calc_logreg(x, beta)\n",
    "assert np.isclose(ans, 0.0)\n",
    "\n",
    "beta: np.ndarray  = np.array([[1, 2, 3]])\n",
    "x: np.ndarray  = np.array([[3, 2, 1]])\n",
    "ans: np.ndarray  = calc_logreg(x, beta.T)\n",
    "assert np.isclose(ans.all(), 1.0)\n",
    "\n",
    "beta: np.ndarray  = np.array([[1, 2, 3]])\n",
    "x: np.ndarray  = np.array([[3, 2, 1], [3, 2, 1]])\n",
    "ans: np.ndarray  = calc_logreg(x, beta.T)\n",
    "assert ans.shape == (2, 1)\n",
    "assert np.isclose(ans.all(), 1.0)"
   ]
  },
  {
   "cell_type": "markdown",
   "metadata": {},
   "source": [
    "**CS2.** *Cost Function:* Write a function to calculate the cost function for logistic regression. Recall that the cost function for logistic regression is given by:\n",
    "\n",
    "$$J(\\beta) = -\\frac{1}{m}\\left[\\Sigma_{i=1}^m y^i \\log(p(x^i)) + (1 - y^i) \\log(1 - p(x^i))\\right]$$\n",
    "\n",
    "You can use the following function in your code:\n",
    "- `np.where(condition, then_expression, else_expression)`"
   ]
  },
  {
   "cell_type": "code",
   "execution_count": 18,
   "metadata": {},
   "outputs": [],
   "source": [
    "# y: vector of actual target, consisted of 1s or 0s, a vector of m elements\n",
    "# X: feature matrix (m by d dimension)\n",
    "# beta: parameter vector (d elements)\n",
    "def compute_cost_logreg(beta: np.ndarray, \n",
    "                        X: np.ndarray, \n",
    "                        y: np.ndarray) -> Number:\n",
    "    np.seterr(divide = 'ignore') \n",
    "    ### BEGIN SOLUTION\n",
    "    m = X.shape[0]\n",
    "\n",
    "    # fancy numpy way \n",
    "    J = -(1/m) * np.sum(np.where(\n",
    "        y==1, \n",
    "        np.log(calc_logreg(X, beta)), # error when actual value y is 1\n",
    "        np.log(1-calc_logreg(X, beta)) # error when actual value y is 0\n",
    "    ))\n",
    "\n",
    "    # old-fashioned loop \n",
    "    # J = 0\n",
    "    # for y_i in y.flatten(): \n",
    "    #     if (y_i == 0):\n",
    "    #         J = J + np.log(1-calc_logreg(X, beta))\n",
    "    #     else:\n",
    "    #         J = J + np.log(calc_logreg(X,beta))\n",
    "            \n",
    "    ### END SOLUTION\n",
    "    np.seterr(divide = 'warn')\n",
    "    return J"
   ]
  },
  {
   "cell_type": "code",
   "execution_count": 19,
   "metadata": {},
   "outputs": [
    {
     "name": "stdout",
     "output_type": "stream",
     "text": [
      "-0.0\n",
      "-0.0\n"
     ]
    }
   ],
   "source": [
    "y: np.ndarray = np.array([[1]])\n",
    "X: np.ndarray  = np.array([[10, 40]])\n",
    "beta: np.ndarray  = np.array([[1, 1]]).T\n",
    "ans: Number = compute_cost_logreg(beta, X, y)\n",
    "print(ans)\n",
    "assert np.isclose(ans, 0)\n",
    "\n",
    "y: np.ndarray  = np.array([[0]])\n",
    "X: np.ndarray  = np.array([[10, 40]])\n",
    "beta: np.ndarray  = np.array([[-1, -1]]).T\n",
    "ans: Number = compute_cost_logreg(beta, X, y)\n",
    "print(ans)\n",
    "assert np.isclose(ans, 0)"
   ]
  },
  {
   "cell_type": "markdown",
   "metadata": {},
   "source": [
    "**CS3.** *Gradient Descent:* Recall that the update functions can be written as a matrix multiplication.\n",
    "\n",
    "$$\\mathbf{b} = \\mathbf{b} - \\alpha\\frac{1}{m}\\mathbf{X}^T(\\mathbf{p} - \\mathbf{y}) $$\n",
    "\n",
    "Write a function called `gradient_descent_logreg()` that takes in four parameters:\n",
    "- `X`: is a 2-D numpy array for the features\n",
    "- `y`: is a vector array for the target\n",
    "- `beta`: is a column vector for the initial guess of the parameters\n",
    "- `alpha`: is the learning rate\n",
    "- `num_iters`: is the number of iteration to perform\n",
    "\n",
    "The function should return two arrays:\n",
    "- `beta`: is coefficient at the end of the iteration\n",
    "- `J_storage`: is the array that stores the cost value at each iteration\n",
    "\n",
    "The solution is similar to Linear Regression gradient descent function with two differences:\n",
    "- you need to use `log_regression()` to calculate the hypothesis\n",
    "- you need to use `compute_cost_logreg()` to calculate the cost"
   ]
  },
  {
   "cell_type": "code",
   "execution_count": 16,
   "metadata": {},
   "outputs": [],
   "source": [
    "def gradient_descent_logreg(X: np.ndarray, \n",
    "                            y: np.ndarray, \n",
    "                            beta: np.ndarray, \n",
    "                            alpha: float,\n",
    "                            num_iters: int) -> tuple[np.ndarray, np.ndarray]:\n",
    "    ### BEGIN SOLUTION\n",
    "    J_storage = np.zeros((num_iters,1)) # prepare an array to store the error value at each iteration so we can plot later \n",
    "    m = X.shape[0] # number of elements in the trainset \n",
    "    for n in range(num_iters):\n",
    "        derivative_value = (1/m) * np.matmul(X.T, (calc_logreg(X,beta)-y))\n",
    "        beta = beta - alpha * derivative_value \n",
    "        J_storage[n] = compute_cost_logreg(beta, X, y)\n",
    "    ### END_SOLUTION \n",
    "    return beta.astype(float), J_storage"
   ]
  },
  {
   "cell_type": "code",
   "execution_count": 17,
   "metadata": {},
   "outputs": [
    {
     "name": "stdout",
     "output_type": "stream",
     "text": [
      "[[-0.56630978]\n",
      " [ 1.93742212]]\n"
     ]
    }
   ],
   "source": [
    "iterations: int = 1500\n",
    "alpha: float = 0.01\n",
    "beta: np.ndarray = np.zeros((2,1))\n",
    "beta, J_storage = gradient_descent_logreg(feature, target, beta, alpha, iterations)\n",
    "\n",
    "print(beta)\n",
    "assert beta.shape == (2, 1)\n",
    "assert np.isclose(beta[0][0], -0.56631, rtol=1e-3)\n",
    "assert np.isclose(beta[1][0], 1.93742, rtol=1e-3)"
   ]
  },
  {
   "cell_type": "code",
   "execution_count": 19,
   "metadata": {},
   "outputs": [
    {
     "data": {
      "text/plain": [
       "[<matplotlib.lines.Line2D at 0x184ba3090>]"
      ]
     },
     "execution_count": 19,
     "metadata": {},
     "output_type": "execute_result"
    },
    {
     "data": {
      "image/png": "[encoded data removed]",
      "text/plain": [
       "<Figure size 640x480 with 1 Axes>"
      ]
     },
     "metadata": {},
     "output_type": "display_data"
    }
   ],
   "source": [
    "plt.plot(J_storage)"
   ]
  },
  {
   "cell_type": "markdown",
   "metadata": {},
   "source": [
    "**CS4.** *Predict:* Write two functions `predict_logreg()` and `predict_norm()` that calculate the straight line equation given the features and its coefficient.\n",
    "- `predict_logreg()`: this function should standardize the feature using z normalization, change it to a Numpy array, and add a column of constant 1s. You should use `prepare_feature()` for this purpose. Lastly, this function should also call `predict_norm()` to get the predicted y values.\n",
    "- `predict_norm()`: this function should calculate the hypothesis or its probability using `calc_logreg()` and categorize it to either 0 or 1 based on its probability. If the probability is greater or equal to 0.5, it should be classified as class 1. Otherwise, it is classified as 0.\n",
    "\n",
    "You can use the following function in your code:\n",
    "- `np.where()`"
   ]
  },
  {
   "cell_type": "code",
   "execution_count": 20,
   "metadata": {},
   "outputs": [],
   "source": [
    "def predict_norm(X: np.ndarray, beta: np.ndarray) -> np.ndarray:\n",
    "    ### BEGIN SOLUTION\n",
    "    ### END SOLUTION\n",
    "    pass"
   ]
  },
  {
   "cell_type": "code",
   "execution_count": 21,
   "metadata": {},
   "outputs": [],
   "source": [
    "def predict_logreg(array_feature: np.ndarray, \n",
    "                   beta: np.ndarray, \n",
    "                   means: Optional[np.ndarray]=None, \n",
    "                   stds: Optional[np.ndarray]=None) -> np.ndarray:\n",
    "    ### BEGIN SOLUTION\n",
    "    ### END SOLUTION\n",
    "    pass"
   ]
  },
  {
   "cell_type": "code",
   "execution_count": 22,
   "metadata": {},
   "outputs": [
    {
     "name": "stdout",
     "output_type": "stream",
     "text": [
      "0.28998242530755713 0.4537539182423709\n"
     ]
    }
   ],
   "source": [
    "df_feature, df_target = get_features_targets(df, [\"radius_mean\"], [\"diagnosis\"])\n",
    "df_target: pd.DataFrame = replace_target(df_target, \"diagnosis\", {'M': 1, 'B': 0})\n",
    "pred: np.ndarray = predict_logreg(df_feature.to_numpy(), beta)\n",
    "print(pred.mean(), pred.std())\n",
    "assert isinstance(pred, np.ndarray)\n",
    "assert np.isclose(pred.mean(), 0.28998)\n",
    "assert np.isclose(pred.std(), 0.45375)"
   ]
  },
  {
   "cell_type": "code",
   "execution_count": 23,
   "metadata": {},
   "outputs": [],
   "source": [
    "means: np.ndarray = np.array([0]).reshape(1,1)\n",
    "stds: np.ndarray = np.array([1]).reshape(1,1)\n",
    "beta: np.ndarray =np.array([[-0.56630289], [ 1.93763591]])\n",
    "input_1row: np.ndarray = np.array([[2.109139]])\n",
    "pred_1row: np.ndarray = predict_logreg(input_1row, beta, means, stds)\n",
    "assert pred_1row[0][0] == 1"
   ]
  },
  {
   "cell_type": "code",
   "execution_count": 25,
   "metadata": {},
   "outputs": [
    {
     "data": {
      "text/plain": [
       "<matplotlib.collections.PathCollection at 0x1a6189850>"
      ]
     },
     "execution_count": 25,
     "metadata": {},
     "output_type": "execute_result"
    },
    {
     "data": {
      "image/png": "[encoded data removed]",
      "text/plain": [
       "<Figure size 640x480 with 1 Axes>"
      ]
     },
     "metadata": {},
     "output_type": "display_data"
    }
   ],
   "source": [
    "plt.scatter(df_feature, df_target)\n",
    "plt.scatter(df_feature, pred)"
   ]
  },
  {
   "cell_type": "markdown",
   "metadata": {},
   "source": [
    "**CS5.** *Multiple features and splitting of data set:* \n",
    "\n",
    "Do the following task in the code below:\n",
    "- Read the following column names as the features: `\"radius_mean\", \"texture_mean\", \"perimeter_mean\", \"area_mean\", \"smoothness_mean\", \"compactness_mean\", \"concavity_mean\"`\n",
    "- Read the column `diagnosis` as the target. Change the value from `M` and `B` to `1` and `0` respectively.\n",
    "- Split the data set with 30% test size and `random_state = 100`.\n",
    "- Normalize the training feature data set using `normalize_z()` function.\n",
    "- Convert to numpy array both the target and the features using `prepare_feature()` and `prepare_target()` functions.\n",
    "- Call `gradient_descent()` function to get the parameters using the training data set.\n",
    "- Call `predict()` function on the test data set to get the predicted values."
   ]
  },
  {
   "cell_type": "code",
   "execution_count": 26,
   "metadata": {},
   "outputs": [
    {
     "name": "stdout",
     "output_type": "stream",
     "text": [
      "[[-0.6138507 ]\n",
      " [ 0.82491639]\n",
      " [ 0.72743625]\n",
      " [ 0.82325868]\n",
      " [ 0.81618797]\n",
      " [ 0.5057594 ]\n",
      " [ 0.44115946]\n",
      " [ 0.78701749]]\n"
     ]
    }
   ],
   "source": [
    "columns: list[str] = [\"radius_mean\", \"texture_mean\", \"perimeter_mean\", \"area_mean\", \"smoothness_mean\", \"compactness_mean\", \"concavity_mean\"]\n",
    "\n",
    "# extract the features and the target columns\n",
    "# df_features, df_target = None, None\n",
    "\n",
    "# replace the target values using from string to integer 0 and 1\n",
    "# df_target: pd.DataFrame = None\n",
    "\n",
    "# split the data with random_state = 100 and 30% test size\n",
    "# df_features_train, df_features_test, df_target_train, df_target_test = None, None, None, None\n",
    "\n",
    "# normalize the features\n",
    "# array_features_train_z, means, stds = None, None, None\n",
    "\n",
    "# change the feature columns to numpy array and append column of 1s\n",
    "# features: np.ndarray = None\n",
    "\n",
    "# change the target column to numpy array\n",
    "# target: np.ndarray = None\n",
    "\n",
    "# iterations: int = 1500\n",
    "# alpha: float = 0.01\n",
    "\n",
    "# provide initial guess for beta\n",
    "# beta: np.ndarray = None\n",
    "\n",
    "# call the gradient descent method\n",
    "# beta, J_storage = None, None\n",
    "\n",
    "### BEGIN SOLUTION\n",
    "\n",
    "### END SOLUTION\n",
    "print(beta)\n",
    "\n"
   ]
  },
  {
   "cell_type": "code",
   "execution_count": 27,
   "metadata": {},
   "outputs": [],
   "source": [
    "assert beta.shape == (8, 1)\n",
    "ans: np.ndarray = np.array([[-0.6138507], \n",
    "                [ 0.8249164],\n",
    "                [ 0.7274362],\n",
    "                [ 0.8232587],\n",
    "                [ 0.8161879],\n",
    "                [ 0.5057594],\n",
    "                [ 0.4411595],\n",
    "                [ 0.7870175]])\n",
    "assert np.isclose(beta, ans).all()"
   ]
  },
  {
   "cell_type": "code",
   "execution_count": 29,
   "metadata": {},
   "outputs": [
    {
     "data": {
      "text/plain": [
       "[<matplotlib.lines.Line2D at 0x1a2d008d0>]"
      ]
     },
     "execution_count": 29,
     "metadata": {},
     "output_type": "execute_result"
    },
    {
     "data": {
      "image/png": "[encoded data removed]",
      "text/plain": [
       "<Figure size 640x480 with 1 Axes>"
      ]
     },
     "metadata": {},
     "output_type": "display_data"
    }
   ],
   "source": [
    "plt.plot(J_storage)"
   ]
  },
  {
   "cell_type": "markdown",
   "metadata": {},
   "source": [
    "**CS6.** Create a function `build_model_logreg()` that perform the following steps:\n",
    "- change all data to numpy array.\n",
    "- normalize the training feature data set using `normalize_z()` function.\n",
    "- create X matrix.\n",
    "- use `reshape(-1, 1)` on the target array to make sure it is a column vector. \n",
    "- run gradient descent by calling `gradient_descent_logreg()` function.\n",
    "\n",
    "This function should output `model` and `J_storage` where `model` is a dictionary containing `beta`, `means` and `stds`. "
   ]
  },
  {
   "cell_type": "code",
   "execution_count": 30,
   "metadata": {},
   "outputs": [],
   "source": [
    "def build_model_logreg(df_feature_train: pd.DataFrame,\n",
    "                       df_target_train: pd.DataFrame,\n",
    "                       beta: Optional[np.ndarray] = None,\n",
    "                       alpha: float = 0.01,\n",
    "                       iterations: int = 1500) -> tuple[dict[str, Any], np.ndarray]:\n",
    "    if beta is None:\n",
    "        beta = np.zeros((df_feature_train.shape[1] + 1, 1)) \n",
    "    assert beta.shape == (df_feature_train.shape[1] + 1, 1)\n",
    "    model: dict[str, Any] = {}\n",
    "    ### BEGIN SOLUTION\n",
    "    array_feature_train_z, means, stds = normalize_z(df_feature_train.to_numpy())\n",
    "    X: np.ndarray = prepare_feature(array_feature_train_z)\n",
    "    target: np.ndarray = df_target_train.to_numpy().reshape(-1,1)\n",
    "    beta, J_storage = gradient_descent_logreg(X, target, beta, alpha, iterations)\n",
    "    model = {\"beta\": beta, \"means\": means, \"stds\": stds}\n",
    "    ### END SOLUTION\n",
    "    return model, J_storage"
   ]
  },
  {
   "cell_type": "code",
   "execution_count": 31,
   "metadata": {},
   "outputs": [],
   "source": [
    "columns = [\"radius_mean\", \"texture_mean\", \"perimeter_mean\", \"area_mean\", \"smoothness_mean\", \"compactness_mean\", \"concavity_mean\"]\n",
    "df_features, df_target = get_features_targets(df, columns, [\"diagnosis\"])\n",
    "df_target: pd.DataFrame = replace_target(df_target, \"diagnosis\", {'M': 1, 'B': 0})\n",
    "\n",
    "df_features_train, df_features_test, df_target_train, df_target_test = split_data(df_features, df_target, random_state=100, test_size=0.3)\n",
    "model, J_storage = build_model_logreg(df_features_train, df_target_train)\n",
    "\n",
    "assert isinstance(model, dict)\n",
    "assert \"beta\" in model\n",
    "assert \"means\" in model\n",
    "assert \"stds\" in model\n",
    "assert model[\"beta\"].shape == (8, 1)\n",
    "ans: np.ndarray = np.array([[-0.6138507], \n",
    "                [ 0.8249164],\n",
    "                [ 0.7274362],\n",
    "                [ 0.8232587],\n",
    "                [ 0.8161879],\n",
    "                [ 0.5057594],\n",
    "                [ 0.4411595],\n",
    "                [ 0.7870175]])\n",
    "assert np.isclose(model[\"beta\"], ans).all()\n",
    "assert np.isclose(model['means'][0, 0], 1.40347594e+01)\n",
    "assert np.isclose(model['stds'][-1, -1], 7.54400405e-02)"
   ]
  },
  {
   "cell_type": "code",
   "execution_count": 33,
   "metadata": {},
   "outputs": [],
   "source": [
    "\n",
    "# call predict() on one record to get the predicted values\n",
    "# use the variable 'means' and 'stds' to normalize\n",
    "input_1row: np.ndarray = np.array([[12.22, 20.04, 79.47, 453.1, 0.10960, 0.11520, 0.08175]])\n",
    "\n",
    "# replace the None\n",
    "# pred_1row: np.ndarray = None\n",
    "\n",
    "### BEGIN SOLUTION\n",
    "### END SOLUTION"
   ]
  },
  {
   "cell_type": "code",
   "execution_count": 34,
   "metadata": {},
   "outputs": [],
   "source": [
    "assert pred_1row[0][0] == 0"
   ]
  },
  {
   "cell_type": "code",
   "execution_count": 35,
   "metadata": {},
   "outputs": [],
   "source": [
    "# call predict() on df_features test dataset to get the predicted values\n",
    "# pred: np.ndarray = None\n",
    "\n",
    "### BEGIN SOLUTION\n",
    "### END SOLUTION"
   ]
  },
  {
   "cell_type": "code",
   "execution_count": 36,
   "metadata": {},
   "outputs": [
    {
     "data": {
      "text/plain": [
       "<matplotlib.collections.PathCollection at 0x199e6a790>"
      ]
     },
     "execution_count": 36,
     "metadata": {},
     "output_type": "execute_result"
    },
    {
     "data": {
      "image/png": "[encoded data removed]",
      "text/plain": [
       "<Figure size 640x480 with 1 Axes>"
      ]
     },
     "metadata": {},
     "output_type": "display_data"
    }
   ],
   "source": [
    "plt.scatter(df_features_test[\"radius_mean\"], df_target_test)\n",
    "plt.scatter(df_features_test[\"radius_mean\"], pred)"
   ]
  },
  {
   "cell_type": "code",
   "execution_count": 37,
   "metadata": {},
   "outputs": [
    {
     "data": {
      "text/plain": [
       "<matplotlib.collections.PathCollection at 0x1712a6850>"
      ]
     },
     "execution_count": 37,
     "metadata": {},
     "output_type": "execute_result"
    },
    {
     "data": {
      "image/png": "[encoded data removed]",
      "text/plain": [
       "<Figure size 640x480 with 1 Axes>"
      ]
     },
     "metadata": {},
     "output_type": "display_data"
    }
   ],
   "source": [
    "plt.scatter(df_features_test[\"texture_mean\"], df_target_test)\n",
    "plt.scatter(df_features_test[\"texture_mean\"], pred)"
   ]
  },
  {
   "cell_type": "code",
   "execution_count": 38,
   "metadata": {},
   "outputs": [
    {
     "data": {
      "text/plain": [
       "<matplotlib.collections.PathCollection at 0x11ac61190>"
      ]
     },
     "execution_count": 38,
     "metadata": {},
     "output_type": "execute_result"
    },
    {
     "data": {
      "image/png": "[encoded data removed]",
      "text/plain": [
       "<Figure size 640x480 with 1 Axes>"
      ]
     },
     "metadata": {},
     "output_type": "display_data"
    }
   ],
   "source": [
    "plt.scatter(df_features_test[\"perimeter_mean\"], df_target_test)\n",
    "plt.scatter(df_features_test[\"perimeter_mean\"], pred)"
   ]
  },
  {
   "cell_type": "markdown",
   "metadata": {},
   "source": [
    "**CS7.** *Confusion Matrix:* Write a function `confusion_matrix()` that takes in:\n",
    "- `ytrue`: which is the true target values\n",
    "- `ypred`: which is the predicted target values\n",
    "- `labels`: which is a list of the category. In the above case it will be `[1, 0]`. Put the positive case as the first element of the list. \n",
    "\n",
    "The function should return a dictionary containing the matrix with the following format.\n",
    "\n",
    "|                 | predicted positive (1) | predicted negative (0) |\n",
    "|-----------------|--------------------|--------------------|\n",
    "| actual positive (1) | correct positive  (1, 1) | false negative (1, 0)    |\n",
    "| actual negative (0) | false positive (0, 1)   | correct negative (0, 0)   |\n",
    "\n",
    "The keys to the dictionary are the indices: `(0, 0), (0, 1), (1, 0), (1, 1)`.\n",
    "\n",
    "You can use the following function in your code:\n",
    "- `itertools.product()`: this is to create a combination of all the labels. "
   ]
  },
  {
   "cell_type": "code",
   "execution_count": 39,
   "metadata": {},
   "outputs": [],
   "source": [
    "import itertools\n",
    "def confusion_matrix(ytrue: np.ndarray, \n",
    "                     ypred: np.ndarray, \n",
    "                     labels: list[int]) -> dict[tuple[int, int], int]:\n",
    "    output: dict[tuple[int, int], int] = {}\n",
    "    ### BEGIN SOLUTION\n",
    "\n",
    "    ### END SOLUTION\n",
    "    return output\n"
   ]
  },
  {
   "cell_type": "code",
   "execution_count": 40,
   "metadata": {},
   "outputs": [
    {
     "name": "stdout",
     "output_type": "stream",
     "text": [
      "{(1, 1): 59, (1, 0): 10, (0, 1): 2, (0, 0): 99}\n"
     ]
    }
   ],
   "source": [
    "result: dict[tuple[int, int], int] = confusion_matrix(df_target_test.values, pred, [1,0])\n",
    "print(result)\n",
    "assert result == {(0, 0): 99, (0, 1): 2, (1, 0): 10, (1, 1): 59}"
   ]
  },
  {
   "cell_type": "markdown",
   "metadata": {},
   "source": [
    "**CS8.** *Metrics:* Write a function `calc_accuracy()` that takes in a Confusion Matrix array and output a dictionary with the following keys and values:\n",
    "- `accuracy`: total number of correct predictions / total number of records\n",
    "- `sensitivity`: total correct positive cases / total positive cases\n",
    "- `specificity`: total true negatives / total negative cases\n",
    "- `precision`: total  of correct positive cases / total predicted positive cases"
   ]
  },
  {
   "cell_type": "code",
   "execution_count": 42,
   "metadata": {},
   "outputs": [],
   "source": [
    "def calc_accuracy(cm: dict[tuple[int, int], int]) -> dict[str, float]:\n",
    "    ### BEGIN SOLUTION\n",
    "\n",
    "    ### END SOLUTION\n",
    "    result: dict[str, float] = {'accuracy': accuracy, 'sensitivity': sensitivity,\n",
    "              'specificity': specificity, 'precision': precision}\n",
    "    return result\n"
   ]
  },
  {
   "cell_type": "code",
   "execution_count": 43,
   "metadata": {},
   "outputs": [],
   "source": [
    "ans: dict[str, float] = calc_accuracy(result)\n",
    "# print(ans)\n",
    "expected = {'accuracy': 0.9294, 'sensitivity': 0.8551, 'specificity': 0.9802, 'precision': 0.9672}\n",
    "assert np.isclose(ans['accuracy'], expected['accuracy'], rtol=1e-3)\n",
    "assert np.isclose(ans['sensitivity'], expected['sensitivity'], rtol=1e-3)\n",
    "assert np.isclose(ans['specificity'], expected['specificity'], rtol=1e-3)\n",
    "assert np.isclose(ans['precision'], expected['precision'], rtol=1e-3)\n",
    " "
   ]
  },
  {
   "cell_type": "markdown",
   "metadata": {},
   "source": [
    "**CS9.** *Optional:* Redo the above tasks using Scikit Learn libraries. You will need to use the following:\n",
    "- [LogisticRegression](https://scikit-learn.org/stable/modules/generated/sklearn.linear_model.LogisticRegression.html)\n",
    "- [train_test_split](https://scikit-learn.org/stable/modules/generated/sklearn.model_selection.train_test_split.html)\n",
    "- [confusion_matrix](https://scikit-learn.org/stable/modules/generated/sklearn.metrics.confusion_matrix.html)"
   ]
  },
  {
   "cell_type": "code",
   "execution_count": 45,
   "metadata": {},
   "outputs": [],
   "source": [
    "from sklearn.linear_model import LogisticRegression\n",
    "from sklearn.model_selection import train_test_split\n",
    "from sklearn.metrics import confusion_matrix as cm_sk"
   ]
  },
  {
   "cell_type": "code",
   "execution_count": 46,
   "metadata": {},
   "outputs": [],
   "source": [
    "columns: list[str] = [\"radius_mean\", \"texture_mean\", \"perimeter_mean\", \"area_mean\", \"smoothness_mean\", \"compactness_mean\", \"concavity_mean\"]\n",
    "# get the features and the columns\n",
    "# df_features, df_target = None\n",
    "\n",
    "# replace target values with 0 and 1\n",
    "# df_target: pd.DataFrame = None\n",
    "\n",
    "### BEGIN SOLUTION\n",
    "\n",
    "### END SOLUTION"
   ]
  },
  {
   "cell_type": "code",
   "execution_count": 47,
   "metadata": {},
   "outputs": [
    {
     "name": "stdout",
     "output_type": "stream",
     "text": [
      "(398, 1)\n"
     ]
    }
   ],
   "source": [
    "# split data set using random_state = 100 and 30% test size\n",
    "# df_features_train, df_features_test, df_target_train, df_target_test = None, None, None, None\n",
    "\n",
    "# change feature to numpy array and append column of 1s\n",
    "# feature: np.ndarray = None\n",
    "\n",
    "# change target to numpy array\n",
    "# target: np.ndarray = None\n",
    "\n",
    "# this is to ensure it is either 0 or 1\n",
    "\n",
    "### BEGIN SOLUTION\n",
    "\n",
    "### END SOLUTION\n",
    "target: np.ndarray = target.astype(int) \n",
    "print(target.shape)"
   ]
  },
  {
   "cell_type": "code",
   "execution_count": 50,
   "metadata": {},
   "outputs": [],
   "source": [
    "# create LogisticRegression object instance, use newton-cg solver\n",
    "# model: LogisticRegression = None\n",
    "\n",
    "# build model\n",
    "# pass\n",
    "\n",
    "# get predicted value\n",
    "# pred: np.ndarray = None\n",
    "\n",
    "### BEGIN SOLUTION\n",
    "\n",
    "### END SOLUTION "
   ]
  },
  {
   "cell_type": "code",
   "execution_count": 53,
   "metadata": {},
   "outputs": [],
   "source": [
    "# calculate confusion matrix\n",
    "# cm: dict[tuple[int, int], int] = None\n",
    "\n",
    "### BEGIN SOLUTION\n",
    "\n",
    "### END SOLUTION\n"
   ]
  },
  {
   "cell_type": "code",
   "execution_count": 54,
   "metadata": {},
   "outputs": [],
   "source": [
    "expected: np.ndarray = np.array([[58,  11], [6, 96]])\n",
    "assert np.array(cm == expected).all()"
   ]
  },
  {
   "cell_type": "code",
   "execution_count": 55,
   "metadata": {},
   "outputs": [
    {
     "data": {
      "text/plain": [
       "<matplotlib.collections.PathCollection at 0x1b1114710>"
      ]
     },
     "execution_count": 55,
     "metadata": {},
     "output_type": "execute_result"
    },
    {
     "data": {
      "image/png": "[encoded data removed]",
      "text/plain": [
       "<Figure size 640x480 with 1 Axes>"
      ]
     },
     "metadata": {},
     "output_type": "display_data"
    }
   ],
   "source": [
    "plt.scatter(df_features_test[\"radius_mean\"], df_target_test)\n",
    "plt.scatter(df_features_test[\"radius_mean\"], pred)"
   ]
  },
  {
   "cell_type": "code",
   "execution_count": 56,
   "metadata": {},
   "outputs": [
    {
     "data": {
      "text/plain": [
       "<matplotlib.collections.PathCollection at 0x19af74610>"
      ]
     },
     "execution_count": 56,
     "metadata": {},
     "output_type": "execute_result"
    },
    {
     "data": {
      "image/png": "[encoded data removed]",
      "text/plain": [
       "<Figure size 640x480 with 1 Axes>"
      ]
     },
     "metadata": {},
     "output_type": "display_data"
    }
   ],
   "source": [
    "plt.scatter(df_features_test[\"texture_mean\"], df_target_test)\n",
    "plt.scatter(df_features_test[\"texture_mean\"], pred)"
   ]
  },
  {
   "cell_type": "code",
   "execution_count": 57,
   "metadata": {},
   "outputs": [
    {
     "data": {
      "text/plain": [
       "<matplotlib.collections.PathCollection at 0x1b88c81d0>"
      ]
     },
     "execution_count": 57,
     "metadata": {},
     "output_type": "execute_result"
    },
    {
     "data": {
      "image/png": "[encoded data removed]",
      "text/plain": [
       "<Figure size 640x480 with 1 Axes>"
      ]
     },
     "metadata": {},
     "output_type": "display_data"
    }
   ],
   "source": [
    "plt.scatter(df_features_test[\"perimeter_mean\"], df_target_test)\n",
    "plt.scatter(df_features_test[\"perimeter_mean\"], pred)"
   ]
  }
 ],
 "metadata": {
  "kernelspec": {
   "display_name": "Python 3",
   "language": "python",
   "name": "python3"
  },
  "language_info": {
   "codemirror_mode": {
    "name": "ipython",
    "version": 3
   },
   "file_extension": ".py",
   "mimetype": "text/x-python",
   "name": "python",
   "nbconvert_exporter": "python",
   "pygments_lexer": "ipython3",
   "version": "3.10.4"
  }
 },
 "nbformat": 4,
 "nbformat_minor": 4
}
